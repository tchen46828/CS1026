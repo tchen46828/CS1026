{
 "cells": [
  {
   "cell_type": "code",
   "execution_count": 1,
   "metadata": {},
   "outputs": [],
   "source": [
    "import random\n",
    "suits = ('Diamonds', 'Clubs', 'Hearts', 'Spades')\n",
    "ranks = ('Ace', 'Two', 'Three', 'Four', 'Five', 'Six', 'Seven', 'Eight', 'Nine', 'Ten', 'Jack', 'Queen', 'King')\n",
    "values = {'Ace':11, 'Two':2, 'Three':3, 'Four':4, 'Five':5, 'Six':6, 'Seven':7, 'Eight':8, 'Nine':9, 'Ten':10, 'Jack':10, 'Queen':10, 'King':10}"
   ]
  },
  {
   "cell_type": "code",
   "execution_count": 2,
   "metadata": {},
   "outputs": [],
   "source": [
    "import sys"
   ]
  },
  {
   "cell_type": "code",
   "execution_count": 3,
   "metadata": {},
   "outputs": [],
   "source": [
    "class Card:\n",
    "    def __init__(self, rank, suit):\n",
    "        self.rank = rank\n",
    "        self.suit = suit\n",
    "        self.value = values[rank]\n",
    "    def __str__(self):\n",
    "        return self.rank + \" of \" + self.suit"
   ]
  },
  {
   "cell_type": "code",
   "execution_count": 4,
   "metadata": {},
   "outputs": [],
   "source": [
    "newcards = []\n",
    "class Deck:\n",
    "    def __init__(self):\n",
    "        self.all_cards = []\n",
    "        for suit in suits:\n",
    "            for rank in ranks:\n",
    "                self.all_cards.append(Card(rank,suit))\n",
    "    def __str__(self):\n",
    "        deck_comp = ''  \n",
    "        for card in self.all_cards:\n",
    "            deck_comp += '\\n '+card.__str__() \n",
    "        return 'The deck has:' + deck_comp\n",
    "    def shuffle(self):\n",
    "        random.shuffle(self.all_cards)"
   ]
  },
  {
   "cell_type": "code",
   "execution_count": 5,
   "metadata": {},
   "outputs": [],
   "source": [
    "pot = []\n",
    "housemoney = []\n",
    "playermoney = []\n",
    "class Player:\n",
    "    def __init__(self):\n",
    "        self.name = input('What is your name?')\n",
    "        self.playerhand = []\n",
    "    def hit_or_stand(self):\n",
    "        while True:\n",
    "            choice = input('Would you like to hit or stand?').upper()\n",
    "            if choice == 'HIT':       \n",
    "                self.playerhand.append(deck1.all_cards[0])\n",
    "                del deck1.all_cards[0]\n",
    "                print(f\"\\n{self.name}'s hand:\", *self.playerhand, sep ='\\n ')\n",
    "                print(f\"\\nThe value of this hand is {value_of_hand(player1.playerhand)[0]}\")\n",
    "                if value_of_hand(player1.playerhand)[0] == 21:\n",
    "                    print(f\"Congratulations {player1.name}, you have won!\")\n",
    "                    playerwon()\n",
    "                    break\n",
    "                elif value_of_hand(player1.playerhand)[0]>21:\n",
    "                    print(f'Sorry {player1.name}, your cards BUSTED')\n",
    "                    playerlost()\n",
    "                    break\n",
    "                elif value_of_hand(player1.playerhand)[0]<21:\n",
    "                    continue\n",
    "            elif choice == 'STAND':\n",
    "                dealer1.dealerturn()\n",
    "                break\n",
    "            else:\n",
    "                print('Sorry that is an invalid response')\n",
    "    def money(self):\n",
    "        while True:\n",
    "            global table_amt\n",
    "            table_amt = input('How much money will you be bringing to the table?')\n",
    "            try:\n",
    "                float(table_amt)\n",
    "            except ValueError:\n",
    "                print('Please enter a valid amount of money (in number form)')\n",
    "            else:\n",
    "                print(f'{self.name} has {table_amt} dollars at the table') \n",
    "                playermoney.append(int(table_amt))\n",
    "                break\n",
    "   \n",
    "    def bet(self):\n",
    "        while True:\n",
    "            global bet_amt\n",
    "            bet_amt = input('How much money would you like to bet this turn?')\n",
    "            try:\n",
    "                float(bet_amt)\n",
    "            except ValueError:\n",
    "                print('Please enter a valid amount of money (in number form)')\n",
    "            else:\n",
    "                if int(bet_amt) > sum(playermoney):\n",
    "                    print('Sorry the requested bet exceeds the amount of your available money')\n",
    "                else: \n",
    "                    pot.append(int(bet_amt))\n",
    "                    playermoney.append(-int(bet_amt))\n",
    "                    break\n",
    "        print(f'{self.name} has {sum(playermoney)} dollars left at the table and {pot[-1]} in the pot') "
   ]
  },
  {
   "cell_type": "code",
   "execution_count": 6,
   "metadata": {},
   "outputs": [],
   "source": [
    "class Dealer:\n",
    "    def __init__(self):\n",
    "        self.dealerhand = []\n",
    "    def __str__(self):\n",
    "        print('dealer')\n",
    "    def dealerturn(self):\n",
    "        print (f'\\nThe dealer has a {dealer1.dealerhand[0]} and a {dealer1.dealerhand[1]}.') \n",
    "        value_of_hand(self.dealerhand)\n",
    "        print(f\"\\nThe value of the dealer's hand is {value_of_hand(dealer1.dealerhand)[1]}\")\n",
    "        while value_of_hand(dealer1.dealerhand)[1] < 17:    \n",
    "            self.dealerhand.append(deck1.all_cards[0])\n",
    "            del deck1.all_cards[0]\n",
    "            print(f\"\\nNew card: {self.dealerhand[-1]}\") \n",
    "            print(f\"The sum of this new hand is {value_of_hand(dealer1.dealerhand)[1]}\")\n",
    "        if 21 > value_of_hand(dealer1.dealerhand)[1] >= 17:\n",
    "            if value_of_hand(dealer1.dealerhand)[1]>value_of_hand(player1.playerhand)[0]:\n",
    "                print(\"The dealer has won!\")\n",
    "                playerlost()\n",
    "            elif value_of_hand(dealer1.dealerhand)[1]==value_of_hand(player1.playerhand)[0]:\n",
    "                print(f'Both the dealer and {player1.name} have hands with value of {value_of_hand(player1.playerhand)[0]}. It is a draw')\n",
    "                playertie()\n",
    "            elif value_of_hand(dealer1.dealerhand)[1]<value_of_hand(player1.playerhand)[0]:\n",
    "                print(f\"Congratulations {player1.name}, you have won!\")\n",
    "                playerwon()\n",
    "        elif value_of_hand(dealer1.dealerhand)[1] > 21:\n",
    "            print(f\"The dealer BUSTED! Congratulations {player1.name}, you have won!\")   \n",
    "            playerwon()\n",
    "        elif value_of_hand(dealer1.dealerhand)[1] == 21:\n",
    "            print(\"21! The dealer has won!\")\n",
    "            playerlost()"
   ]
  },
  {
   "cell_type": "code",
   "execution_count": 7,
   "metadata": {},
   "outputs": [],
   "source": [
    "def value_of_hand(hand):    \n",
    "    playercard_sum = 0\n",
    "    dealercard_sum = 0\n",
    "    if hand == player1.playerhand:\n",
    "        for card1 in hand:\n",
    "            playercard_sum += card1.value  \n",
    "        if playercard_sum < 21:\n",
    "            #print(f\"\\nThe value of this hand is {playercard_sum}\")\n",
    "            pass\n",
    "    elif hand == dealer1.dealerhand:\n",
    "        for card2 in hand:\n",
    "            dealercard_sum += card2.value  \n",
    "        #NEED TO WRITE A FUNCTION THAT TELLS WHOSE HAND IS BEING ADDED (DEALER OR PLAYER)\n",
    "    return [playercard_sum,dealercard_sum,0]"
   ]
  },
  {
   "cell_type": "code",
   "execution_count": 8,
   "metadata": {},
   "outputs": [],
   "source": [
    "def initial_deal():\n",
    "    player1.playerhand.extend(deck1.all_cards[0:2])      \n",
    "    dealer1.dealerhand.extend(deck1.all_cards[2:4])\n",
    "    del deck1.all_cards[0:4]\n",
    "    if value_of_hand(dealer1.dealerhand)[1] == 21:\n",
    "        print(\"Blackjack! The dealer has won!\")\n",
    "        print(f\"The dealer's cards: {dealer1.dealerhand[0]} and {dealer1.dealerhand[1]}\")\n",
    "        playerlost()\n",
    "    elif value_of_hand(player1.playerhand)[0] == 21:\n",
    "        print(f\"Blackjack! {player1.name} has won!\")\n",
    "        print(f\"{player1.name}'s cards: {dealer1.dealerhand[0]} and {dealer1.dealerhand[1]}\")\n",
    "        playerlost()\n",
    "    else:\n",
    "        print (f'{player1.name} has a {player1.playerhand[0]} and {player1.playerhand[1]}.')\n",
    "        value_of_hand(player1.playerhand)\n",
    "        print(f\"\\nThe value of this hand is {value_of_hand(player1.playerhand)[0]}\")\n",
    "        print (f'The dealer has a {dealer1.dealerhand[0]} and an unknown card.')   "
   ]
  },
  {
   "cell_type": "code",
   "execution_count": 9,
   "metadata": {},
   "outputs": [],
   "source": [
    "def playerlost():\n",
    "    housemoney.append(pot[0])\n",
    "    del pot[0]\n",
    "    remainingmoney = sum(playermoney)\n",
    "    print(f\"{player1.name} now has a total of {remainingmoney} dollars\")\n",
    "    playagain()\n",
    "    \n",
    "def playerwon():\n",
    "    playermoney.append(2*pot[0])\n",
    "    del pot[0]\n",
    "    remainingmoney = sum(playermoney)\n",
    "    print(f\"{player1.name} now has a total of {remainingmoney} dollars\")\n",
    "    playagain()\n",
    "    \n",
    "def playertie():\n",
    "    playermoney.append(pot[0])\n",
    "    del pot[0]\n",
    "    remainingmoney = sum(playermoney)\n",
    "    print(f\"{player1.name} now has a total of {remainingmoney} dollars\")\n",
    "    playagain()\n"
   ]
  },
  {
   "cell_type": "code",
   "execution_count": 10,
   "metadata": {},
   "outputs": [],
   "source": [
    "def playgame():    \n",
    "        player1.bet()\n",
    "        initial_deal()\n",
    "        player1.hit_or_stand()    "
   ]
  },
  {
   "cell_type": "code",
   "execution_count": 11,
   "metadata": {},
   "outputs": [],
   "source": [
    "def playagain():\n",
    "    while True:\n",
    "        question = input('Would you like to play again?').upper()\n",
    "        if question == 'NO':\n",
    "            break\n",
    "            sys.exit()\n",
    "        elif question != 'NO' and question != 'YES':\n",
    "            print('Sorry, that is not an acceptable answer')\n",
    "        elif question == 'YES':    \n",
    "            reset()\n",
    "            playgame()\n",
    "            break  "
   ]
  },
  {
   "cell_type": "code",
   "execution_count": 12,
   "metadata": {},
   "outputs": [],
   "source": [
    "def reset():\n",
    "    deck1.all_cards.extend(player1.playerhand)\n",
    "    deck1.all_cards.extend(dealer1.dealerhand)\n",
    "    del player1.playerhand[0:]\n",
    "    del dealer1.dealerhand[0:]"
   ]
  },
  {
   "cell_type": "code",
   "execution_count": 13,
   "metadata": {},
   "outputs": [
    {
     "name": "stdout",
     "output_type": "stream",
     "text": [
      "What is your name?Terry\n",
      "How much money will you be bringing to the table?100\n",
      "Terry has 100 dollars at the table\n"
     ]
    }
   ],
   "source": [
    "player1 = Player()\n",
    "deck1 = Deck()\n",
    "dealer1 = Dealer()\n",
    "deck1.shuffle()\n",
    "player1.money()"
   ]
  },
  {
   "cell_type": "code",
   "execution_count": 14,
   "metadata": {},
   "outputs": [
    {
     "name": "stdout",
     "output_type": "stream",
     "text": [
      "How much money would you like to bet this turn?10\n",
      "Terry has 90 dollars left at the table and 10 in the pot\n",
      "Terry has a King of Spades and Six of Spades.\n",
      "\n",
      "The value of this hand is 16\n",
      "The dealer has a Queen of Diamonds and an unknown card.\n",
      "Would you like to hit or stand?hit\n",
      "\n",
      "Terry's hand:\n",
      " King of Spades\n",
      " Six of Spades\n",
      " Seven of Hearts\n",
      "\n",
      "The value of this hand is 23\n",
      "Sorry Terry, your cards BUSTED\n",
      "Terry now has a total of 90 dollars\n",
      "Would you like to play again?no\n"
     ]
    }
   ],
   "source": [
    "playgame()"
   ]
  },
  {
   "cell_type": "code",
   "execution_count": 15,
   "metadata": {},
   "outputs": [],
   "source": [
    "#add the ace functionality"
   ]
  },
  {
   "cell_type": "code",
   "execution_count": 16,
   "metadata": {},
   "outputs": [],
   "source": [
    "#Ask how much money the players are bringing to the table\n",
    "#Ask the players how much they are betting for this turn\n",
    "#Deal two cards face up to each player then deal two cards, one face up and one face down to the dealer\n",
    "#Ask each player one by one if they want to hit or stay\n",
    "#If player asks to hit, deal one card and ask again\n",
    "#If there is an ace, keep the value at 11 until the sum exceeds 21, then set the value of the ace to 1\n",
    "#Continue this action until the player says stay or until they bust\n",
    "#Once all players have gone, reveal the facedown card of the dealer. If the sum is less than 17, deal another card until the sum equals or exceeds 17\n",
    "#if there is an Ace in the dealers hand, count it as 11 unless the sum exceeds 21.\n",
    "#If the dealer busts, the players win. If the dealer has a higher hand than the player, the dealer wins. If the hands are the same, there is a tie\n",
    "#If player wins, the house pays the same amount the player bet. If the dealer wins, the house wins the money that the player bet."
   ]
  }
 ],
 "metadata": {
  "kernelspec": {
   "display_name": "Python 3",
   "language": "python",
   "name": "python3"
  },
  "language_info": {
   "codemirror_mode": {
    "name": "ipython",
    "version": 3
   },
   "file_extension": ".py",
   "mimetype": "text/x-python",
   "name": "python",
   "nbconvert_exporter": "python",
   "pygments_lexer": "ipython3",
   "version": "3.7.6"
  }
 },
 "nbformat": 4,
 "nbformat_minor": 4
}
