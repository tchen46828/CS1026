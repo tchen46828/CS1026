{
 "cells": [
  {
   "cell_type": "raw",
   "metadata": {},
   "source": [
    "Python Interpreter: a computer program that exectures code written in Python\n",
    "\n",
    "Active Interpreter: a program that allows the user to execute one line of a code at a time\n",
    "\n",
    "Code: textual representation of a program\n",
    "\n",
    "Line: a row of text\n",
    "\n",
    "Statement: a program instruction\n",
    "\n",
    "Expression: code that return a value when evaluated  "
   ]
  },
  {
   "cell_type": "raw",
   "metadata": {},
   "source": [
    "Variables: named references to values stored in the interpreter\n",
    "   - Variables are created by performing assignments with '='\n",
    "\n",
    "print() displays variables/expression values\n",
    "    - the text enclosed within quotes of a print statement output is known as a **string literal**\n",
    "    - good practice is to use single quotes for shorter strings and double quotes for more complicated text\n",
    "    - each call to print() outputs on a new line\n",
    "    - to keep output of two different print statements on the same line, add ,end = ' '\n",
    "        - example: print('Hello', end = ' ')\n",
    "    - to print multiple objects within a single print statement, use a comma to separate every item\n",
    "        - ex. print('Hello',var)\n",
    "x = x+1 --> known as incrementing the variable\n",
    "    - can also be written as x+=1\n",
    "    "
   ]
  },
  {
   "cell_type": "raw",
   "metadata": {},
   "source": [
    "whitespace: any space, tab, or newline\n",
    "\n",
    "newline = \\n\n",
    "\n",
    "'#' denotes comments\n",
    "\n",
    "input() allows user to input a text and assigns it with the variable\n",
    "    - **always** outputs as a string"
   ]
  },
  {
   "cell_type": "raw",
   "metadata": {},
   "source": [
    "Types:\n",
    "\n",
    "type() - outputs the type of the object in the brackets\n",
    "\n",
    "int() - changes the type of the object in brackets to integer\n",
    "\n",
    "float() - changes the type of the object in brackets to floating point\n",
    "\n",
    "str() - changes the type of the object in brackets to string\n"
   ]
  },
  {
   "cell_type": "raw",
   "metadata": {},
   "source": [
    "Errors:\n",
    "\n",
    "syntax error: violation of a programming language's rules on how symbols can be combined to create a program\n",
    "\n",
    "runtime error: when an impossible operation is attempted (dividing by 0, or multiplying strings)\n",
    "\n",
    "indentation error: lines of program are not properly indented\n",
    "\n",
    "value error: invalid vlaue is used\n",
    "\n",
    "name error: program tries to use a variable that does not exist\n",
    "\n",
    "type error: operation uses incorrect types (int + str)\n",
    "\n",
    "overflow error: when a value is too large to be stored in the memory allocated by interpreter"
   ]
  },
  {
   "cell_type": "raw",
   "metadata": {},
   "source": [
    "3 Properties of an Object:\n",
    "    1. Value\n",
    "           - data associated witht he object\n",
    "    2. Type\n",
    "           - determines the object's supported behaviour\n",
    "           - also determines mutability (indicates whether the object's value is allowed to be changed) of an object\n",
    "           - integer and strings are immutable\n",
    "    3. Identity\n",
    "           - unique numeric identifier \n",
    "           - function id() provides the value of an object's identity"
   ]
  },
  {
   "cell_type": "raw",
   "metadata": {},
   "source": [
    "Floating Points:\n",
    "    - floating point refers to the decimal point being able to appear anywhere in the number\n",
    "    - scientific notation is useful to represent floating points\n",
    "        - form: 6.02e23 --> 6.02x10^23\n",
    "        - print('{:.2f}'.format(hello)) will round the value of the float to 2 decimal points\n",
    "            - the number preceding 'f' can be any number"
   ]
  },
  {
   "cell_type": "raw",
   "metadata": {},
   "source": [
    "Arithmetic Expressions:\n",
    "\n",
    "Operators:\n",
    "+ --> addition\n",
    "- --> subtraction\n",
    "* --> multiplication\n",
    "/ --> division (will return a floating, use // for the result to be an integer - will drop all numbers after the decimal )\n",
    "** --> exponent\n",
    "% (modulo) --> divides two numbers, providing the remainder of the division (if any)\n",
    "Order of Operations:\n",
    "    1. ()\n",
    "    2. (-) unary negatives\n",
    "    3. *,/,%\n",
    "    4. +,-\n",
    "    5. left to right\n",
    "Make sure there is a space on both sides of the operator\n",
    "Commas are not allowed between numbers\n",
    "Compound Operators:\n",
    "    +=\n",
    "    -=\n",
    "    *=\n",
    "    /=\n",
    "    %="
   ]
  },
  {
   "cell_type": "raw",
   "metadata": {},
   "source": [
    "Math Module:\n",
    "import Math\n",
    "math.anyfunction\n",
    "\n",
    "Functions:\n",
    "    - ceil --> round up value\n",
    "    - factorial --> (3! = 3*2*1)\n",
    "    - fmod --> remainder of division\n",
    "    - exp --> exponential function e^x\n",
    "    - pow --> raise to power\n",
    "    - pi --> mathematical constant pi (3.14...)\n",
    "    - fabs --> absolute value\n",
    "    - floor --> round down\n",
    "    - log --> logarithm\n",
    "    - sqrt --> square root"
   ]
  },
  {
   "cell_type": "raw",
   "metadata": {},
   "source": [
    "String Sequence:\n",
    "Every character in an string is associated with an index\n",
    "First character always = 0, increases by one after that\n",
    "Last character = -1\n",
    "    - Example: word = 'word', word[0] = w\n",
    "len() will output the number of characters in a string\n",
    "*Strings are immutable --> to change a string, one must reassign the variable\n",
    "Concatenating strings --> to combine two or more strings, you can add a + between strings"
   ]
  },
  {
   "cell_type": "raw",
   "metadata": {},
   "source": [
    "Type Conversion:\n",
    "\n",
    "Implicit Conversion:\n",
    "    - 1 + 2 returns an integer\n",
    "    - 1.0 + 2 returns a float\n",
    "    - 1.0 + 2.0 returns a float\n",
    "float --> int drops the decimals"
   ]
  },
  {
   "cell_type": "raw",
   "metadata": {},
   "source": [
    "String Formatting:\n",
    "Placing a {} in an expression and adding .format(var) at the end of the string will replace the curly braces with the desired variable\n",
    "\n",
    "Positional replacement: 'The {1} in the {0} is {2}'.format('hi', 'hello', 'Terry')\n",
    "    - uses the index position of the variables in the brackets\n",
    "\n",
    "Inferred positional replacement: 'The {} in the {} is {}'.format('hi', 'hello', 'Terry')\n",
    "    - replaces the curly braces with the variables in the order that they are in the brackets\n",
    "    \n",
    "Named replacement: 'The {hi} in the {hello} is {Terry}'.format(hi = 'hi', hello = 'hello', Terry = 'Terry')\n",
    "    - assigns variables to the strings\n",
    "\n",
    "Common Formatting Specification Presentation Types:\n",
    "    - allows a value's formatting in the string to be customized\n",
    "{:s} = string\n",
    "{:d} = decimal\n",
    "{:b} = binary\n",
    "{:x} = hexadecimal\n",
    "{:e} = exponent notation --> '{:e}'.format(44) --> 4.4e+01\n",
    "{:f} = fixed-point notation (6 pts of precision)\n",
    "{:[precision]f} = programmer defined precision\n",
    "\n",
    "{[name]:[number]} --> the number will specify how many spaces in width the string will take up\n",
    "    - if the width is greater than the string, it will fill with space characters\n",
    "    \n",
    "Alignment Characters:\n",
    "{name:<} --> left aligned\n",
    "{name:>} --> right aligned\n",
    "{name:^} --> centered\n",
    "\n",
    "Fill Characters:\n",
    "{number:0>4} --> 0009\n",
    "{number:0<4} --> 9000"
   ]
  },
  {
   "cell_type": "raw",
   "metadata": {},
   "source": [
    "Binary Numbers\n",
    "\n",
    "Each number has a binary code associated with it\n",
    "Binary codes are decided by using weighed powers of 2:\n",
    "    \n",
    "1101 in binary is:\n",
    "\n",
    "1 * 2^0\n",
    "0 * 2^1\n",
    "1 * 2^2\n",
    "1 * 2^3\n",
    "\n",
    "Increasing power of 2's from the end to beginning of the binary number"
   ]
  },
  {
   "cell_type": "raw",
   "metadata": {},
   "source": [
    "String Methods:\n",
    "\n",
    "Finding and replacing:\n",
    "_____.replace(old,new)\n",
    "Example:\n",
    "name = Terry\n",
    "name.replace('Terry', 'James')\n",
    "name should output 'James' now\n",
    "\n",
    ".find() --> finds a character/string withint a string and outputs the index\n",
    ".find(x,start) --> finds characters beginning from the index given\n",
    ".find(x,start,end) --> finds characters beginning from the index given but only up to the ending index given\n",
    ".rfind(x) --> finds the character beginning from the end of the string [-1]\n",
    "\n",
    ".count() --> returns the amount of times a character/string appears in a string"
   ]
  },
  {
   "cell_type": "raw",
   "metadata": {},
   "source": [
    "String Comparisons:\n",
    ".alnum() --> returns True if all characters are lowercase/all uppercase, or numbers 0-9\n",
    ".isdigit() --> returns True if all characters are 0-9\n",
    ".islower() --> returns True if all lowercase\n",
    ".isupper() --> returns True if all uppercase\n",
    ".isspace() --> returns True if all whitespace\n",
    ".startswith() --> returns True if begins with __\n",
    ".endswith() --> returns True if ends with ___"
   ]
  },
  {
   "cell_type": "raw",
   "metadata": {},
   "source": [
    "Create new strings from a string:\n",
    ".capitalize() --> capitalizes the first character\n",
    ".lower() --> all characters lowercase\n",
    ".upper() --> all characters uppercased\n",
    ".strip() --> leadding and trailing whitespace removed\n",
    ".title() --> first letter of all words are capitalized"
   ]
  }
 ],
 "metadata": {
  "kernelspec": {
   "display_name": "Python 3",
   "language": "python",
   "name": "python3"
  },
  "language_info": {
   "codemirror_mode": {
    "name": "ipython",
    "version": 3
   },
   "file_extension": ".py",
   "mimetype": "text/x-python",
   "name": "python",
   "nbconvert_exporter": "python",
   "pygments_lexer": "ipython3",
   "version": "3.8.3"
  }
 },
 "nbformat": 4,
 "nbformat_minor": 4
}
