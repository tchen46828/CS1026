{
 "cells": [
  {
   "cell_type": "code",
   "execution_count": 1,
   "metadata": {},
   "outputs": [],
   "source": [
    "#Welcome statement to the game\n",
    "#Explain the rules of the game\n",
    "#Choose for who goes first\n",
    "#Choose who gets X and who gets O\n",
    "#Print tic tac toe board (labelled with numbers)\n",
    "#Person who goes first enters the integer position of which they want to place their symbol\n",
    "#Continue asking for positions (while loop)\n",
    "#Game ends when either all positions are filled or when one person gets three positions in a line"
   ]
  },
  {
   "cell_type": "code",
   "execution_count": 2,
   "metadata": {},
   "outputs": [
    {
     "name": "stdout",
     "output_type": "stream",
     "text": [
      "Welcome! This is a game of tic tac toe. \n",
      " \n",
      "Description: Tic tac toe is a two-player game where the players alternate placing symbols of either X or O in a 3x3 grid in attempt to get three symbols in a row. It does not matter if the 3 symbols are horizontal, vertical or diagonal.\n"
     ]
    }
   ],
   "source": [
    "print('Welcome! This is a game of tic tac toe. \\n \\nDescription: Tic tac toe is a two-player game where the players alternate placing symbols of either X or O in a 3x3 grid in attempt to get three symbols in a row. It does not matter if the 3 symbols are horizontal, vertical or diagonal.')"
   ]
  },
  {
   "cell_type": "code",
   "execution_count": 3,
   "metadata": {},
   "outputs": [
    {
     "name": "stdout",
     "output_type": "stream",
     "text": [
      "A coin toss will be used to determine which player goes first. One player must call heads or tailsheads\n"
     ]
    },
    {
     "data": {
      "text/plain": [
       "'Congratulations, you are Player 1 and you will go first'"
      ]
     },
     "execution_count": 3,
     "metadata": {},
     "output_type": "execute_result"
    }
   ],
   "source": [
    "def choose_order():\n",
    "    import random\n",
    "    number = random.randint(1,2)\n",
    "    choice = ''\n",
    "    \n",
    "    while not (choice == 'HEADS' or choice == 'TAILS'):\n",
    "        choice = input('A coin toss will be used to determine which player goes first. One player must call heads or tails').upper()\n",
    "        if choice not in ['HEADS','TAILS']:\n",
    "            print('Sorry, that is an invalid selection') \n",
    "    if choice == 'HEADS' and number == 1 or choice == 'TAILS' and number == 2:\n",
    "        return 'Congratulations, you are Player 1 and you will go first'  \n",
    "    else:\n",
    "        return 'Your opponent is Player 1 and they will go first'\n",
    "choose_order()"
   ]
  },
  {
   "cell_type": "code",
   "execution_count": 4,
   "metadata": {},
   "outputs": [
    {
     "name": "stdout",
     "output_type": "stream",
     "text": [
      "Player 1, choose either X or O as your designated symbol for the gamex\n"
     ]
    }
   ],
   "source": [
    "player1_symbol = []\n",
    "player2_symbol = []\n",
    "def choose_symbol():\n",
    "\n",
    "    symbol = ''\n",
    "    while not (symbol == 'X' or symbol == 'O'):\n",
    "        symbol = input('Player 1, choose either X or O as your designated symbol for the game').upper()\n",
    "        if symbol not in ['X','O']:\n",
    "            print('That is not a valid selection')\n",
    "    if symbol == 'X':\n",
    "        player1_symbol.append('X')\n",
    "        player2_symbol.append('O')\n",
    "    if symbol == 'O':\n",
    "        player1_symbol.append('O')\n",
    "        player2_symbol.append('X')\n",
    "choose_symbol()"
   ]
  },
  {
   "cell_type": "code",
   "execution_count": 5,
   "metadata": {},
   "outputs": [
    {
     "name": "stdout",
     "output_type": "stream",
     "text": [
      "The game will now begin\n"
     ]
    }
   ],
   "source": [
    "print('The game will now begin')"
   ]
  },
  {
   "cell_type": "code",
   "execution_count": 6,
   "metadata": {
    "scrolled": true
   },
   "outputs": [
    {
     "name": "stdout",
     "output_type": "stream",
     "text": [
      "Reference Board:\n",
      "    1    |    2    |     3     \n",
      "_________|_________|_________\n",
      "    4    |    5    |     6     \n",
      "_________|_________|_________\n",
      "    7    |    8    |     9    \n",
      "         |         |         \n",
      "Each number represents the location of the square it is in. To place your symbol, enter a number from 1-9 dependent on which square you want to occupy.\n"
     ]
    }
   ],
   "source": [
    "print('Reference Board:\\n    1    |    2    |     3     \\n_________|_________|_________\\n    4    |    5    |     6     \\n_________|_________|_________\\n    7    |    8    |     9    \\n         |         |         ')\n",
    "print('Each number represents the location of the square it is in. To place your symbol, enter a number from 1-9 dependent on which square you want to occupy.')"
   ]
  },
  {
   "cell_type": "code",
   "execution_count": 7,
   "metadata": {},
   "outputs": [],
   "source": [
    "round = 1\n",
    "acceptable_positions = list(range(1,10))\n",
    "space=[' ' ,' ' ,' ' ,' ' ,' ' ,' ' ,' ' ,' ' ,' ']\n",
    "def player_turn(round):    \n",
    "    position_choice = ''\n",
    "    if round%2 != 0:\n",
    "        marker=player1_symbol[0]\n",
    "        while not (position_choice in acceptable_positions):\n",
    "            position_choice = int(input(f'Player 1, select a position from 1-9 to place your {marker} marker (Must be an integer)'))\n",
    "            if position_choice not in acceptable_positions:\n",
    "                print(\"Invalid position. Please try again.\")\n",
    "                               \n",
    "        if position_choice in acceptable_positions:\n",
    "            space[position_choice-1] = marker \n",
    "            acceptable_positions.remove(position_choice)\n",
    "    else:\n",
    "        marker=player2_symbol[0]\n",
    "        while not (position_choice in acceptable_positions):\n",
    "            position_choice = int(input(f'Player 2, select a position from 1-9 to place your {marker} marker (Must be an integer)'))\n",
    "            if position_choice-1 not in acceptable_positions:\n",
    "                print(\"Invalid position. Please try again.\")\n",
    "        \n",
    "        if position_choice in acceptable_positions:\n",
    "            space[position_choice-1] = marker \n",
    "            acceptable_positions.remove(position_choice)\n",
    "# the list changes when an item is popped off so the index positions will not work the same after multiple turns"
   ]
  },
  {
   "cell_type": "code",
   "execution_count": 8,
   "metadata": {
    "scrolled": true
   },
   "outputs": [],
   "source": [
    "from IPython.display import clear_output\n",
    "def display_board():    \n",
    "    clear_output()\n",
    "    print('  ' + space[0]+' | '+space [1]+' | '+ space[2])    \n",
    "    print('____|___|____')    \n",
    "    print('  '+ space[3]+' | '+space [4]+' | '+space[5])    \n",
    "    print('____|___|____')    \n",
    "    print('  ' + space[6]+' | '+space [7]+' | '+space[8])  \n",
    "    print('    |   |   ')"
   ]
  },
  {
   "cell_type": "code",
   "execution_count": 9,
   "metadata": {},
   "outputs": [],
   "source": [
    "def remainder():\n",
    "    print('Remaining positions:') \n",
    "    print (acceptable_positions)"
   ]
  },
  {
   "cell_type": "code",
   "execution_count": 10,
   "metadata": {},
   "outputs": [],
   "source": [
    "def replay():\n",
    "    input('Would you like to play again?').upper()"
   ]
  },
  {
   "cell_type": "code",
   "execution_count": 11,
   "metadata": {},
   "outputs": [],
   "source": [
    "def check_win(): \n",
    "    marker=player2_symbol[0]\n",
    "    marker=player1_symbol[0]\n",
    "    if ((space[0] == marker and space[1] == marker and space[2] == marker) or \n",
    "            (space[0] == marker and space[1] == marker and space[2] == marker) or \n",
    "            (space[3] == marker and space[4] == marker and space[5] == marker) or \n",
    "            (space[6] == marker and space[7] == marker and space[8] == marker) or \n",
    "            (space[0] == marker and space[3] == marker and space[6] == marker) or \n",
    "            (space[1] == marker and space[4] == marker and space[7] == marker) or\n",
    "            (space[2] == marker and space[5] == marker and space[8] == marker) or \n",
    "            (space[0] == marker and space[4] == marker and space[8] == marker) or \n",
    "            (space[2] == marker and space[4] == marker and space[6] == marker)):\n",
    "        print('Congratulations, you have won the game')\n",
    "        replay()\n",
    "    else:\n",
    "        if acceptable_positions == []:\n",
    "            print('The game has ended in a tie') \n",
    "            replay()\n",
    "        else:\n",
    "            pass"
   ]
  },
  {
   "cell_type": "code",
   "execution_count": 12,
   "metadata": {},
   "outputs": [
    {
     "name": "stdout",
     "output_type": "stream",
     "text": [
      "    |   |  \n",
      "____|___|____\n",
      "    | X |  \n",
      "____|___|____\n",
      "    |   |  \n",
      "    |   |   \n",
      "Remaining positions:\n",
      "[1, 2, 3, 4, 6, 7, 8, 9]\n"
     ]
    }
   ],
   "source": [
    "player_turn(1)\n",
    "display_board()\n",
    "remainder()"
   ]
  },
  {
   "cell_type": "code",
   "execution_count": 13,
   "metadata": {},
   "outputs": [
    {
     "name": "stdout",
     "output_type": "stream",
     "text": [
      "  O |   |  \n",
      "____|___|____\n",
      "    | X |  \n",
      "____|___|____\n",
      "    |   |  \n",
      "    |   |   \n",
      "Remaining positions:\n",
      "[2, 3, 4, 6, 7, 8, 9]\n"
     ]
    }
   ],
   "source": [
    "player_turn(2)\n",
    "display_board()\n",
    "remainder()\n",
    "check_win()"
   ]
  },
  {
   "cell_type": "code",
   "execution_count": 14,
   "metadata": {},
   "outputs": [
    {
     "name": "stdout",
     "output_type": "stream",
     "text": [
      "  O |   | X\n",
      "____|___|____\n",
      "    | X |  \n",
      "____|___|____\n",
      "    |   |  \n",
      "    |   |   \n",
      "Remaining positions:\n",
      "[2, 4, 6, 7, 8, 9]\n"
     ]
    }
   ],
   "source": [
    "player_turn(3)\n",
    "display_board()\n",
    "remainder()\n",
    "check_win()"
   ]
  },
  {
   "cell_type": "code",
   "execution_count": 15,
   "metadata": {},
   "outputs": [
    {
     "name": "stdout",
     "output_type": "stream",
     "text": [
      "  O |   | X\n",
      "____|___|____\n",
      "    | X |  \n",
      "____|___|____\n",
      "  O |   |  \n",
      "    |   |   \n",
      "Remaining positions:\n",
      "[2, 4, 6, 8, 9]\n"
     ]
    }
   ],
   "source": [
    "player_turn(4)\n",
    "display_board()\n",
    "remainder()\n",
    "check_win()"
   ]
  },
  {
   "cell_type": "code",
   "execution_count": 16,
   "metadata": {},
   "outputs": [
    {
     "name": "stdout",
     "output_type": "stream",
     "text": [
      "  O |   | X\n",
      "____|___|____\n",
      "    | X |  \n",
      "____|___|____\n",
      "  O |   | X\n",
      "    |   |   \n",
      "Remaining positions:\n",
      "[2, 4, 6, 8]\n"
     ]
    }
   ],
   "source": [
    "player_turn(5)\n",
    "display_board()\n",
    "remainder()\n",
    "check_win()"
   ]
  },
  {
   "cell_type": "code",
   "execution_count": 17,
   "metadata": {},
   "outputs": [
    {
     "name": "stdout",
     "output_type": "stream",
     "text": [
      "  O |   | X\n",
      "____|___|____\n",
      "  O | X |  \n",
      "____|___|____\n",
      "  O |   | X\n",
      "    |   |   \n",
      "Remaining positions:\n",
      "[2, 6, 8]\n"
     ]
    }
   ],
   "source": [
    "player_turn(6)\n",
    "display_board()\n",
    "remainder()\n",
    "check_win()"
   ]
  },
  {
   "cell_type": "code",
   "execution_count": null,
   "metadata": {},
   "outputs": [],
   "source": [
    "player_turn(7)\n",
    "display_board()\n",
    "remainder()\n",
    "check_win()"
   ]
  },
  {
   "cell_type": "code",
   "execution_count": null,
   "metadata": {},
   "outputs": [],
   "source": [
    "player_turn(8)\n",
    "display_board()\n",
    "remainder()\n",
    "check_win()"
   ]
  },
  {
   "cell_type": "code",
   "execution_count": null,
   "metadata": {},
   "outputs": [],
   "source": [
    "player_turn(9)\n",
    "display_board()\n",
    "remainder()\n",
    "check_win()"
   ]
  }
 ],
 "metadata": {
  "kernelspec": {
   "display_name": "Python 3",
   "language": "python",
   "name": "python3"
  },
  "language_info": {
   "codemirror_mode": {
    "name": "ipython",
    "version": 3
   },
   "file_extension": ".py",
   "mimetype": "text/x-python",
   "name": "python",
   "nbconvert_exporter": "python",
   "pygments_lexer": "ipython3",
   "version": "3.7.6"
  }
 },
 "nbformat": 4,
 "nbformat_minor": 4
}
